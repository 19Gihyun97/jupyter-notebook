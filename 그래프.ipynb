{
 "cells": [
  {
   "cell_type": "markdown",
   "id": "dee00f3e-1a08-41b1-b8c5-9be355a9bf5d",
   "metadata": {},
   "source": [
    "## ▷ ★ 그래프\n",
    "\n",
    "1. 산점도 = sns.scatterplot(data = , x = '', y = '') => 나이와 소득처럼 연속값으로 된 두 변수의 관계를 표현할 때 사용\n",
    "2. 막대 그래프 = sns.barplot(data = , x = '', y = '') => 집단 간 차이를 표현할 때 막대 그래프를 자주 사용\n",
    "3. 빈도 막대 그래프 = sns.countplot(data = , x = '') => 값의 빈도(개수)를 막대 길이로 표현한 그래프, 여러 집단의 빈도를 비교할 때 사용\n",
    "                            sns.countplot(data = , x = '', hue = '')  \n",
    "4. 선 그래프 = sns.lineplot(data = , x = '', y = '') => 시간에 따라 달라지는 데이터를 표현할 때 사용\n",
    "5. 상자 그림 = sns.boxplot(data = , x = '', y = '') => 데이터의 분포 또는 퍼져 있는 형태를 직사격형 상자 모양으로 표현한 그래프\n",
    "6. 히스토그램 = sns.histplot(data = , x = '') => 변수의 각 구간별 데이터를 확인할 수 있다.\n",
    "\n",
    "* 단일 변수\n",
    "데이터 타입           유형\n",
    "1. 수치형             확률분포 또는 히스토그램\n",
    "2. 범주형             빈도 수 그래프 (Bar / Pie Chart) \n",
    "\n",
    "* 다변수\n",
    "데이터 타입                          유형\n",
    "1. Y : 연속 / X : 연속            산점도 / 회귀 그래프 / 히트맵\n",
    "2. Y : 연속 / X : 범주            막대 그래프 / 상자그림\n",
    "3. Y : 연속 / X : 시간(순서)     선 그래프 / 포인트 그래프"
   ]
  },
  {
   "cell_type": "markdown",
   "id": "d8888096-7a92-450a-b9b2-881fac45a6de",
   "metadata": {},
   "source": [
    "## ▷ ★ Matplotlib \n",
    "import matplotlib.pyplot as plt\n",
    "\n",
    "다양한 형태의 그래프를 통해서 데이터 시각화를 할 수 있는 라이브러리"
   ]
  },
  {
   "cell_type": "markdown",
   "id": "beb16eec-3412-4fdc-a48c-ec2c142c231d",
   "metadata": {},
   "source": [
    "## ▷ import matplotlib.pyplot as plt\n",
    "plt.rcParams.update({'figure.dpi' : '150'}) #해상도, 기본값 72\n",
    "plt.rcParams.update({'figure.figsize' : [8, 6]}) # 가로, 세로 크기 기본값 [6, 4]\n",
    "plt.rcParams.update({'font.size' : '15'}) # 글자 크기, 기본값 10\n",
    "plt.rcParams.update({'font.family' : 'Malgun gothic'}) # 폰트, 기본값 sans-serif\n",
    "\n",
    "★ 위 요소를 한 번에 설정 {}에 설정값 나열하기\n",
    "plt.rcParams.update({'figure.dpi' : '150', # 해상도 설정\n",
    "                          'figure.figsize' : [8, 6], # 가로, 세로 크기 설정\n",
    "                          'font.size' : '15', # 글자 크기\n",
    "                          'font.family' : 'Malgun gothic'})\n",
    "\n",
    "★ 그래프에 한글 표현하기\n",
    "맑은 고딕(Malgun gothic)과 같은 한글 폰트로 설정을 바꾼 다음 그래프를 출력하면 한글이 잘 표현 된다.\n",
    "\n",
    "★ 설정 되돌리기\n",
    "설정한 내용은 JupyterLab을 새로 실행하거나 커널을 새로 실행하면 원래대로 돌아간다.\n",
    "위 방법을 실행하지 않고 설정을 되돌리려면\n",
    "plt.rcParams.update(plt.rcParamsDefault) 를 실행하면 된다.\n",
    "\n",
    "★ 그래프 출력 코드 뒤에 ; 을 입력하면 AxesSubplot... 으로 시작하는 설명 메시지가 출력되지 않습니다.\n",
    "sns.scatterplot(data = mpg, x = 'displ', y = 'hwy');\n",
    "\n"
   ]
  },
  {
   "cell_type": "markdown",
   "id": "6a62b4df-febd-4d52-ac19-d6ccbb08030e",
   "metadata": {
    "tags": []
   },
   "source": [
    "## ▷ ★ 설명 메시지 출력 x\n",
    "\n",
    "그래프 출력 코드 뒤에 ; 을 입력하면 AxesSubplot... 으로 시작하는 설명 메시지가 출력되지 않습니다.\n",
    "sns.scatterplot(data = mpg, x = 'displ', y = 'hwy');\n"
   ]
  },
  {
   "cell_type": "markdown",
   "id": "876d0415-d282-4609-83b9-aa38addf04a7",
   "metadata": {},
   "source": [
    "## ▷ ★ 그래프 이미지 파일로 저장하기\n",
    "그래프에 마우스 커서를 올리고 shift + 마우스 우클릭\n",
    "<이미지를 다른 이름으로 저장> 클릭 => 그래프를 이미지 파일로 저장\n",
    "\n",
    "<이미지 복사>는 그래프를 메모리에 저장하는 기능\n",
    "이 버튼을 클릭한 다음 엑셀, 파워포인트 등 다른 프로그램에서 붙여넣기를 하면 그래프가 삽입됩니다."
   ]
  },
  {
   "cell_type": "markdown",
   "id": "a9bdd584-383b-472a-8c4f-227c931203e3",
   "metadata": {},
   "source": [
    "## ▷ ★ 범례\n",
    "\n",
    "plt.legend()\n",
    "\n",
    "★ 범례 위치 바꾸기  \n",
    "plt.plot(x, y, label = '무슨 데이터')  \n",
    "plt.legend(loc = 'upper right') #오른쪽 위 lower right 오른쪽 밑  "
   ]
  },
  {
   "cell_type": "markdown",
   "id": "24b43e4a-8257-4ea7-960a-ada8429d4400",
   "metadata": {},
   "source": [
    "## ▷ ★ 상관행렬 히트맵\n",
    "\n",
    "df1 = df.corr() # 상관행렬 만들기  \n",
    "df1 = round(car_cor, 2) # 소수점 둘째 자리까지 반올림  \n",
    "df1  \n",
    "\n",
    "히트맵 만들기   \n",
    "import seaborn as sns  \n",
    "sns.heatmap(df1,    \n",
    "                annot = True, # 상관계수 표시  \n",
    "                cmap = 'RdBu') # 컬러맵  \n",
    "\n",
    "cbar : 오른쪽에 있는 막대(범주)를 표시  \n",
    "annot : 상관계수를 표시  \n",
    "square : 정사각형으로 지정하는 것이며, False로 설정 시 직사각형이 됨  \n",
    "fmt : 상관계수의 소수점 자리수를 지정  \n",
    "annot_kws : 상관계수의 글자 크기를 지정  \n",
    "yticklabels : y축 레이블 값  \n",
    "xticklabels : x축 레이블 값  \n",
    "\n",
    "히트맵은 상관계수가 클수록 상자 색깔을 진하게 표현  \n",
    "상관계수가 양수면 파란색 음수면 빨간색  \n",
    "\n",
    "★ 대각 행렬 제거하기 mask    \n",
    "상관행렬은 행과 열에 같은 변수가 나열되므로 앞에서 만든 히트맵은  대각선 기준을 왼쪽 아래와 오른쪽 위의 값이 대칭하여 중복된다.  \n",
    "\n",
    "★ mask 만들기, np.zeros_like() 를 이용해 상관행렬의 행과 열의 수 만큼 0으로 채운 배열을 만든다.  \n",
    "import numpy as np  \n",
    "mask = np.zeros_like(df1)   \n",
    "\n",
    "- 중복제거  \n",
    "mask = np.zeros_like(cus_high_1)  \n",
    "mask[np.triu_indices_from(mask)] = 1  \n",
    "sns.heatmap(cus_high_1, annot = True, cmap = 'RdBu', mask = mask)  \n",
    "\n",
    "\n",
    "\n",
    "\n",
    "상관계수 히트맵 만들기  \n",
    "plt.rcParams.update({'figure.dpi' : '120', 'figure.figsize' : [15, 5]})  \n",
    "cus_high_1 = cus_high.corr()  \n",
    "cus_high_1 = round(cus_high_1, 2)  \n",
    "sns.heatmap(cus_high_1, annot = True, cmap = 'RdBu')  \n",
    "\n",
    "mask = np.zeros_like(cus_high_1)    \n",
    "mask[np.triu_indices_from(mask)] = 1  \n",
    "sns.heatmap(cus_high_1, annot = True, cmap = 'RdBu', mask = mask)  "
   ]
  },
  {
   "cell_type": "markdown",
   "id": "71ad0aca-cde8-45da-8255-5aa4d76552ed",
   "metadata": {},
   "source": [
    "## ▷ ★ 스타일\n",
    "\n",
    "그래프 선 굵기  \n",
    "plt.plot(x, y, linewidth = 5)  \n",
    "\n",
    "데이터가 있는 부분 점 표시  \n",
    "plt.plot(x, y, marker = 'o')  \n",
    "\n",
    "그래프 선을 없애고 점만 남기기  \n",
    "plt.plot(x, y, marker = 'o', linestyle = 'None')  \n",
    "  \n",
    "점표시 대신 삼격형으로 표시  \n",
    "plt.plot(x, y, marker = 'v' )  \n",
    "\n",
    "삼각형 크기  \n",
    "plt.plot(x, y, marker = 'v', markersize = 10)  \n",
    "\n",
    "matplotlib marker 구글링하면 정보가 나온다.  "
   ]
  },
  {
   "cell_type": "markdown",
   "id": "8716edd5-54f3-4c7a-bf30-f47c5fea0b25",
   "metadata": {},
   "source": [
    "## ▷ ★ 종류별로 표식 색깔 바꾸기  \n",
    "\n",
    "sns.scatterplot(data = , x = '변수명', y = '변수명', hue = ' ')"
   ]
  },
  {
   "cell_type": "markdown",
   "id": "2a8ca66d-daca-4ec2-9893-9773d958d2ff",
   "metadata": {},
   "source": [
    "## ▷ ★ 그래프 한글 폰트 설정하는 방법\n",
    "\n",
    "import matplotlib  \n",
    "matplotlib.rcParams['font.family'] = 'Malgun Gothic'  # Windows 전용  \n",
    "matplotlib.rcParams['font.family'] = 'AppleGothic' # Mac 전용  \n",
    "\n",
    "★ 글자 크기 설정 = ['font.size']  \n",
    "\n",
    "matplotlib.rcParams['font.size'] = 15  # 글자 크기  \n",
    "\n",
    "★ 사용 가능한 폰트 확인  \n",
    "import matplotlib.font_manager as fm  \n",
    "fm.fontManager.ttflist  \n",
    "\n",
    "폰트 이름만 가져오기  \n",
    "[f.name for f in fm.fontManager.ttflist]  \n",
    "\n",
    "★ 한글 폰트 사용시, 마이너스 글자 깨지는 현상 해결  \n",
    "matplotlib.rcParams['axes.unicode_minus'] = False  \n",
    "\n",
    "★ 개별 폰트 설정  \n",
    "plt.plot(x, y)  \n",
    "plt.title('꺽은선 그래프', fontdict = {'family' : 'Malgun Gothic', 'size' : 20}) # 개별 폰트 설정  \n",
    "\n",
    "★ x, y축 이름 삽입  \n",
    "plt.plot(x, y)  \n",
    "plt.xlabel('x축')  \n",
    "plt.ylabel('y축')   \n",
    "\n",
    "★ x, y축 색 삽입  \n",
    "plt.plot(x, y)  \n",
    "plt.xlabel('x축', color = 'blue') # x축 색 삽입  \n",
    "plt.ylabel('y축', color = 'green') # y축 색 삽입  \n",
    "\n",
    "★ x, y축 위치 바꾸기  \n",
    "plt.plot(x, y)  \n",
    "plt.xlabel('x축', color = 'blue', loc = 'right') # 위치 변경 (left, center, right) 3가지  \n",
    "plt.ylabel('y축', color = 'green', loc = 'top') # 위치 변경 (top, center, bottom) 3가지  \n",
    "\n",
    "\n",
    "\n",
    "\n"
   ]
  },
  {
   "cell_type": "markdown",
   "id": "1f8e9641-af7f-430d-b5a2-6af2ecb2d558",
   "metadata": {},
   "source": [
    "## ▷ ★ 산점도 - 변수 간 관계 표현  \n",
    "데이터를 x축과 y축에 점으로 표현한 그래프  \n",
    "나이, 소득처럼 연속값으로 된 두 변수의 관계를 표현할 때 사용한다.  \n",
    "\n",
    "import seaborn as sns  \n",
    "sns.scatterplot(data = 데이터명, x = '변수', y = '변수')  \n",
    "\n",
    "축은 기본적으로 최소값에서 최대값까지 모든 범위의 데이터를 표현하도록 설정  \n",
    "일부만 표현 => 축 범위를 설정  \n",
    "축범위는 sns.set()의 xlim과 ylim을 이용해 설정할 수 있다.  \n",
    "\n",
    "\n",
    "x축 범위 3~6으로 제한  \n",
    "sns.scatterplot(data = 데이터명, x = '변수', y = '변수').set(xlim = (3, 6))  \n",
    "\n",
    "x축 범위 3~6, y축 범위 10~30으로 제한  \n",
    "sns.scatterplot(data = 데이터명, x = '변수', y = '변수').set(xlim = (3, 6), ylim = (10, 30))  \n",
    "\n",
    "★ 종류별로 표식 색깔 바꾸기 hue  \n",
    "drv별로 표식 색깔 다르게 표현  \n",
    "sns.scatterplot(data = 데이터명, x = '변수', y = '변수', hue = 'drv')  "
   ]
  },
  {
   "cell_type": "markdown",
   "id": "e0028553-48ea-4893-adae-aff07cb2a552",
   "metadata": {},
   "source": [
    "## ▷ ★ 막대 그래프 - 집단 간 차이 표현하기, 데이터의 크기를 막대의 길이로 표현  \n",
    "sns.barplot(data = 데이터명, x = '변수명', y = '변수명')  \n",
    "\n",
    "평균 막대 그래프 = 평균값의 크기를 막대 길이로 표현한 그래프 (여러 집단의 평균값을 비교할 때 사용)  \n",
    "\n",
    "크기순으로 정렬하기  \n",
    "막대 정렬 순서는 그래프를 만드는데 사용한 데이터 프레임의 행 순서에 따라 정해진다.  "
   ]
  },
  {
   "cell_type": "markdown",
   "id": "70f169db-1e78-49c6-9fca-37deec5c0d54",
   "metadata": {},
   "source": [
    "## ▷ ★ 그래프 행 순서 바꾸기 order  \n",
    "sns.barplot(data = cus_Income, x = 'Income_분류', y = 'Income_Spending', order = ['저소득', '중위소득', '고소득'])  "
   ]
  },
  {
   "cell_type": "markdown",
   "id": "760bb047-5137-4036-a475-702d131e074e",
   "metadata": {},
   "source": [
    "## ▷ ★ plt.show()  \n",
    "\n",
    "x = [1, 2, 3]  \n",
    "y = [2, 4, 8]  \n",
    "plt.plot(x, y)  \n",
    "\n",
    "[<matplotlib.lines.Line2D at 0x1b7f3ed8d30>]  \n",
    "그래프 위에 불필요 데이터가 나오면  \n",
    "  \n",
    "plt.plot(x, y)  \n",
    "plt.show()   \n",
    "\n",
    "입력하면 위 불필요 데이터가 나오지 않는다.  \n"
   ]
  }
 ],
 "metadata": {
  "kernelspec": {
   "display_name": "Python 3 (ipykernel)",
   "language": "python",
   "name": "python3"
  },
  "language_info": {
   "codemirror_mode": {
    "name": "ipython",
    "version": 3
   },
   "file_extension": ".py",
   "mimetype": "text/x-python",
   "name": "python",
   "nbconvert_exporter": "python",
   "pygments_lexer": "ipython3",
   "version": "3.9.12"
  }
 },
 "nbformat": 4,
 "nbformat_minor": 5
}
